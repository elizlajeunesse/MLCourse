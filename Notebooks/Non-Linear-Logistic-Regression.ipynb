{
 "cells": [
  {
   "cell_type": "markdown",
   "metadata": {
    "slideshow": {
     "slide_type": "slide"
    }
   },
   "source": [
    "# Non-Linear Logistic Regression"
   ]
  },
  {
   "cell_type": "markdown",
   "metadata": {
    "collapsed": true,
    "slideshow": {
     "slide_type": "slide"
    }
   },
   "source": [
    "In the last session we looked at the basic concepts of logistic regression.\n",
    "\n",
    "- Logistic classification is about predicting one or another category.\n",
    "- Models give us numerical values.\n",
    "- The way to convert numerical values to categorical values is by using the *sigmoid*.\n",
    "- A new penalty function that has small values if you guess very close to correctly and very large values otherwise (roughly)."
   ]
  },
  {
   "cell_type": "code",
   "execution_count": 1,
   "metadata": {
    "collapsed": true,
    "slideshow": {
     "slide_type": "skip"
    }
   },
   "outputs": [],
   "source": [
    "# Import our usual libraries\n",
    "import numpy as np\n",
    "import pandas as pd\n",
    "import matplotlib.pyplot as plt\n",
    "%matplotlib inline"
   ]
  },
  {
   "cell_type": "code",
   "execution_count": 2,
   "metadata": {
    "collapsed": true,
    "slideshow": {
     "slide_type": "skip"
    }
   },
   "outputs": [],
   "source": [
    "# Set up the path\n",
    "import os\n",
    "# OS-independent way to navigate the file system\n",
    "# Data directory is one directory up in relation to directory of this notebook\n",
    "data_dir_root = os.path.normpath(os.getcwd() + os.sep + os.pardir + os.sep + \"Data\")\n",
    "# Where the file is\n",
    "file_url = data_dir_root + os.sep + \"forged-bank-notes.csv\"\n",
    "#file_url"
   ]
  },
  {
   "cell_type": "code",
   "execution_count": 3,
   "metadata": {
    "collapsed": true,
    "slideshow": {
     "slide_type": "skip"
    }
   },
   "outputs": [],
   "source": [
    "# Load the data\n",
    "# header=0 drops the header row in the csv file\n",
    "data = pd.read_csv(file_url, header=0, names=['V1', 'V2', 'V3', 'V4', 'Genuine'])"
   ]
  },
  {
   "cell_type": "code",
   "execution_count": 4,
   "metadata": {
    "slideshow": {
     "slide_type": "skip"
    }
   },
   "outputs": [],
   "source": [
    "# Set up the inputs and \n",
    "# display the few rows of the input\n",
    "inputs_v1_v2 = data[['V1', 'V2']]\n",
    "inputs_v3_v4 = data[['V3', 'V4']]\n",
    "inputs_v1_v3 = data[['V1', 'V3']]\n",
    "inputs_v1_v4 = data[['V1', 'V4']]\n",
    "inputs_v2_v3 = data[['V2', 'V3']]\n",
    "inputs_v2_v4 = data[['V2', 'V4']]"
   ]
  },
  {
   "cell_type": "markdown",
   "metadata": {
    "slideshow": {
     "slide_type": "slide"
    }
   },
   "source": [
    "Let's start where we left off last time.\n",
    "\n",
    "We were looking at a bank notes dataset. The dataset has features V1, V2, V3, and V4.\n",
    "\n",
    "We were looking just at V1 and V2 -- to keep things simple enough to visualize things easily.\n",
    "\n",
    "We'll continue to look at V1 and V2..."
   ]
  },
  {
   "cell_type": "code",
   "execution_count": 5,
   "metadata": {
    "slideshow": {
     "slide_type": "slide"
    }
   },
   "outputs": [
    {
     "data": {
      "text/html": [
       "<div>\n",
       "<style>\n",
       "    .dataframe thead tr:only-child th {\n",
       "        text-align: right;\n",
       "    }\n",
       "\n",
       "    .dataframe thead th {\n",
       "        text-align: left;\n",
       "    }\n",
       "\n",
       "    .dataframe tbody tr th {\n",
       "        vertical-align: top;\n",
       "    }\n",
       "</style>\n",
       "<table border=\"1\" class=\"dataframe\">\n",
       "  <thead>\n",
       "    <tr style=\"text-align: right;\">\n",
       "      <th></th>\n",
       "      <th>V1</th>\n",
       "      <th>V2</th>\n",
       "    </tr>\n",
       "  </thead>\n",
       "  <tbody>\n",
       "    <tr>\n",
       "      <th>0</th>\n",
       "      <td>3.62160</td>\n",
       "      <td>8.6661</td>\n",
       "    </tr>\n",
       "    <tr>\n",
       "      <th>1</th>\n",
       "      <td>4.54590</td>\n",
       "      <td>8.1674</td>\n",
       "    </tr>\n",
       "    <tr>\n",
       "      <th>2</th>\n",
       "      <td>3.86600</td>\n",
       "      <td>-2.6383</td>\n",
       "    </tr>\n",
       "    <tr>\n",
       "      <th>3</th>\n",
       "      <td>3.45660</td>\n",
       "      <td>9.5228</td>\n",
       "    </tr>\n",
       "    <tr>\n",
       "      <th>4</th>\n",
       "      <td>0.32924</td>\n",
       "      <td>-4.4552</td>\n",
       "    </tr>\n",
       "  </tbody>\n",
       "</table>\n",
       "</div>"
      ],
      "text/plain": [
       "        V1      V2\n",
       "0  3.62160  8.6661\n",
       "1  4.54590  8.1674\n",
       "2  3.86600 -2.6383\n",
       "3  3.45660  9.5228\n",
       "4  0.32924 -4.4552"
      ]
     },
     "execution_count": 5,
     "metadata": {},
     "output_type": "execute_result"
    }
   ],
   "source": [
    "# What the first few rows of the dataset looks like -- \n",
    "#  for just the V1 and V2 features.\n",
    "inputs_v1_v2.head()"
   ]
  },
  {
   "cell_type": "code",
   "execution_count": 6,
   "metadata": {
    "slideshow": {
     "slide_type": "slide"
    }
   },
   "outputs": [
    {
     "data": {
      "text/html": [
       "<div>\n",
       "<style>\n",
       "    .dataframe thead tr:only-child th {\n",
       "        text-align: right;\n",
       "    }\n",
       "\n",
       "    .dataframe thead th {\n",
       "        text-align: left;\n",
       "    }\n",
       "\n",
       "    .dataframe tbody tr th {\n",
       "        vertical-align: top;\n",
       "    }\n",
       "</style>\n",
       "<table border=\"1\" class=\"dataframe\">\n",
       "  <thead>\n",
       "    <tr style=\"text-align: right;\">\n",
       "      <th></th>\n",
       "      <th>Genuine</th>\n",
       "    </tr>\n",
       "  </thead>\n",
       "  <tbody>\n",
       "    <tr>\n",
       "      <th>0</th>\n",
       "      <td>0</td>\n",
       "    </tr>\n",
       "    <tr>\n",
       "      <th>1</th>\n",
       "      <td>0</td>\n",
       "    </tr>\n",
       "    <tr>\n",
       "      <th>2</th>\n",
       "      <td>0</td>\n",
       "    </tr>\n",
       "    <tr>\n",
       "      <th>3</th>\n",
       "      <td>0</td>\n",
       "    </tr>\n",
       "    <tr>\n",
       "      <th>4</th>\n",
       "      <td>0</td>\n",
       "    </tr>\n",
       "  </tbody>\n",
       "</table>\n",
       "</div>"
      ],
      "text/plain": [
       "   Genuine\n",
       "0        0\n",
       "1        0\n",
       "2        0\n",
       "3        0\n",
       "4        0"
      ]
     },
     "execution_count": 6,
     "metadata": {},
     "output_type": "execute_result"
    }
   ],
   "source": [
    "# And here's what the first few lines of the outputs/targets\n",
    "\n",
    "# Set up the output and \n",
    "# display the first few rows of the output/target\n",
    "output = data[['Genuine']]\n",
    "output.head()"
   ]
  },
  {
   "cell_type": "code",
   "execution_count": 7,
   "metadata": {
    "slideshow": {
     "slide_type": "skip"
    }
   },
   "outputs": [
    {
     "data": {
      "text/plain": [
       "(1372, 2)"
      ]
     },
     "execution_count": 7,
     "metadata": {},
     "output_type": "execute_result"
    }
   ],
   "source": [
    "# Set up the training data\n",
    "X_train_v1_v2 = {'data': inputs_v1_v2.values, 'feature1': 'V1', 'feature2': 'V2'}\n",
    "X_train_v3_v4 = {'data': inputs_v3_v4.values, 'feature1': 'V3', 'feature2': 'V4'} \n",
    "X_train_v1_v3 = {'data': inputs_v1_v3.values, 'feature1': 'V1', 'feature2': 'V3'}\n",
    "X_train_v1_v4 = {'data': inputs_v1_v4.values, 'feature1': 'V1', 'feature2': 'V4'}\n",
    "X_train_v2_v3 = {'data': inputs_v2_v3.values, 'feature1': 'V2', 'feature2': 'V3'}\n",
    "X_train_v2_v4 = {'data': inputs_v2_v4.values, 'feature1': 'V2', 'feature2': 'V4'}\n",
    "X_train_v1_v2['data'].shape"
   ]
  },
  {
   "cell_type": "code",
   "execution_count": 8,
   "metadata": {
    "slideshow": {
     "slide_type": "skip"
    }
   },
   "outputs": [
    {
     "data": {
      "text/plain": [
       "(1372,)"
      ]
     },
     "execution_count": 8,
     "metadata": {},
     "output_type": "execute_result"
    }
   ],
   "source": [
    "# Set up the target data \n",
    "y = output.values\n",
    "\n",
    "# Change the shape of y to suit scikit learn's array shape requirements\n",
    "y_train = np.array(list(y.squeeze()))\n",
    "y_train.shape"
   ]
  },
  {
   "cell_type": "code",
   "execution_count": 9,
   "metadata": {
    "collapsed": true,
    "slideshow": {
     "slide_type": "skip"
    }
   },
   "outputs": [],
   "source": [
    "# Set up the positive and negative categories\n",
    "# Scatter of V1 versus V2\n",
    "positive = data[data['Genuine'].isin([1])]\n",
    "negative = data[data['Genuine'].isin([0])]"
   ]
  },
  {
   "cell_type": "code",
   "execution_count": 10,
   "metadata": {
    "collapsed": true,
    "slideshow": {
     "slide_type": "skip"
    }
   },
   "outputs": [],
   "source": [
    "# Set up the logistic regression model from SciKit Learn\n",
    "from sklearn.linear_model import LogisticRegression\n",
    "from sklearn import metrics\n",
    "from sklearn.model_selection import cross_val_score\n",
    "# Solvers that seem to work well are 'liblinear' and 'newton-cg\"\n",
    "lr = LogisticRegression(C=100.0, random_state=0, solver='liblinear', verbose=2)"
   ]
  },
  {
   "cell_type": "code",
   "execution_count": 11,
   "metadata": {
    "slideshow": {
     "slide_type": "skip"
    }
   },
   "outputs": [
    {
     "name": "stdout",
     "output_type": "stream",
     "text": [
      "[LibLinear]"
     ]
    },
    {
     "data": {
      "text/plain": [
       "LogisticRegression(C=100.0, class_weight=None, dual=False, fit_intercept=True,\n",
       "          intercept_scaling=1, max_iter=100, multi_class='ovr', n_jobs=1,\n",
       "          penalty='l2', random_state=0, solver='liblinear', tol=0.0001,\n",
       "          verbose=2, warm_start=False)"
      ]
     },
     "execution_count": 11,
     "metadata": {},
     "output_type": "execute_result"
    }
   ],
   "source": [
    "# Train the model and find the optimal parameter values\n",
    "lr.fit(X_train_v1_v2['data'], y_train)"
   ]
  },
  {
   "cell_type": "markdown",
   "metadata": {
    "slideshow": {
     "slide_type": "slide"
    }
   },
   "source": [
    "At this point, (just imagine that) we've:\n",
    "\n",
    "- visualized the data\n",
    "- defined the task we'd like to accomplish\n",
    "- defined the model\n",
    "- defined the penalty for the being wrong\n",
    "- used an iterative algorithm (like gradient descent) to find the optimal values of the parameters\n",
    "\n",
    "(Can you picture all of this from the dataset point of view?)"
   ]
  },
  {
   "cell_type": "markdown",
   "metadata": {
    "slideshow": {
     "slide_type": "slide"
    }
   },
   "source": [
    "<img src=\"../Images/nonlinear-logistic-regression-1.png\" alt=\"Table View 1\" style=\"width:600px\"/>"
   ]
  },
  {
   "cell_type": "markdown",
   "metadata": {
    "slideshow": {
     "slide_type": "slide"
    }
   },
   "source": [
    "<img src=\"../Images/nonlinear-logistic-regression-2.png\" alt=\"Table View 1\" style=\"width:600px\"/>"
   ]
  },
  {
   "cell_type": "markdown",
   "metadata": {
    "slideshow": {
     "slide_type": "slide"
    }
   },
   "source": [
    "<img src=\"../Images/nonlinear-logistic-regression-3.png\" alt=\"Table View 1\" style=\"width:600px\"/>"
   ]
  },
  {
   "cell_type": "code",
   "execution_count": 12,
   "metadata": {
    "slideshow": {
     "slide_type": "slide"
    }
   },
   "outputs": [
    {
     "name": "stdout",
     "output_type": "stream",
     "text": [
      "w0: 0.5865973329054549\n",
      "w1: -1.1107052345243296\n",
      "w2: -0.27255003089824\n"
     ]
    }
   ],
   "source": [
    "# These are the optimal values of w0, w1 and w2\n",
    "w0 = lr.intercept_[0]\n",
    "w1 = lr.coef_.squeeze()[0]\n",
    "w2 = lr.coef_.squeeze()[1]\n",
    "print(\"w0: {}\\nw1: {}\\nw2: {}\".format(w0, w1, w2))"
   ]
  },
  {
   "cell_type": "code",
   "execution_count": 13,
   "metadata": {
    "collapsed": true,
    "slideshow": {
     "slide_type": "skip"
    }
   },
   "outputs": [],
   "source": [
    "# Function for plotting class boundaries\n",
    "from sklearn.preprocessing import PolynomialFeatures\n",
    "from sklearn.linear_model import LogisticRegression\n",
    "from sklearn import metrics\n",
    "from sklearn.model_selection import cross_val_score\n",
    "\n",
    "def poly_boundary_plot(XTrain, YTrain, degree, show_contours=0):\n",
    "    \n",
    "    # XTrain has to have exactly 2 features for this visualization to work\n",
    "    \n",
    "    # Transform the training inputs\n",
    "    poly = PolynomialFeatures(degree)\n",
    "    X_train_poly = poly.fit_transform(XTrain['data'])\n",
    "    # NOTE: the poly function adds a bias value of 1 to each row of input data -- \n",
    "    #  default setting is include_bias=True\n",
    "    \n",
    "    # Set up the logistic regression model from SciKit Learn\n",
    "    # Solvers that seem to work well are 'liblinear' and 'newton-cg\"\n",
    "    lr = LogisticRegression(C=100.0, random_state=0, solver='liblinear', verbose=2)\n",
    "    \n",
    "    # Fit the polynomial data to the simple linear logistic regression model we have\n",
    "    lr.fit(X_train_poly, YTrain);\n",
    "    \n",
    "    # Create a grid of feature values\n",
    "    \n",
    "    # Find the min and max values of the two features \n",
    "    # Make grid values\n",
    "    GRID_INCREMENT = 0.02\n",
    "    x1_min = np.array([XTrain['data'][i][0] for i in range(len(XTrain['data']))]).min()\n",
    "    x1_max = np.array([XTrain['data'][i][0] for i in range(len(XTrain['data']))]).max()\n",
    "    \n",
    "    x2_min = np.array([XTrain['data'][i][1] for i in range(len(XTrain['data']))]).min()\n",
    "    x2_max = np.array([XTrain['data'][i][1] for i in range(len(XTrain['data']))]).max()\n",
    "    \n",
    "    xx1, xx2 = np.mgrid[x1_min:x1_max:GRID_INCREMENT, x2_min:x2_max:GRID_INCREMENT]\n",
    "    #xx1.shape, xx2.shape\n",
    "    \n",
    "    # Create the grid\n",
    "    grid = np.c_[xx1.ravel(), xx2.ravel()]\n",
    "    grid.shape\n",
    "    \n",
    "    # The predictions of the model\n",
    "    preds_poly = lr.predict(poly.fit_transform(grid))\n",
    "    preds_poly_probs = lr.predict_proba(poly.fit_transform(grid))\n",
    "    preds_poly_probs_0 = np.array([preds_poly_probs[i][0] for i in range(len(preds_poly_probs))])\n",
    "    preds_poly_probs_1 = np.array([preds_poly_probs[i][1] for i in range(len(preds_poly_probs))])\n",
    "    \n",
    "    #return preds_poly, preds_poly_probs, preds_poly_probs_0, preds_poly_probs_1\n",
    "    \n",
    "    # Where did the model misclassify banknotes?\n",
    "    # Keep in mind we are only using V1 and V2\n",
    "    ## CAUTION: USING EXISTING variable values here\n",
    "    model_preds = lr.predict(X_train_poly)\n",
    "    errors_poly = data[data['Genuine'] != model_preds]\n",
    "    #errors_poly\n",
    "    \n",
    "    # Get some classification performance metrics\n",
    "    accuracy = metrics.accuracy_score(YTrain, model_preds)\n",
    "    report = metrics.classification_report(YTrain, model_preds)\n",
    "    confusion_matrix = metrics.confusion_matrix(YTrain, model_preds, labels=None, sample_weight=None)\n",
    "    \n",
    "    # Plot the boundary\n",
    "    fig, ax = plt.subplots(figsize=(15,10))\n",
    "\n",
    "    ax.scatter(positive[XTrain['feature1']], positive[XTrain['feature2']], s=30, c='b', marker='.', label='Genuine')\n",
    "    ax.scatter(negative[XTrain['feature1']], negative[XTrain['feature2']], s=30, c='r', marker='.', label='Forged')\n",
    "\n",
    "    ax.set_xlabel(XTrain['feature1'])\n",
    "    ax.set_ylabel(XTrain['feature2'])\n",
    "\n",
    "    # Now plot black circles around data points that were incorrectly predicted\n",
    "    ax.scatter(errors_poly[XTrain['feature1']], errors_poly[XTrain['feature2']], facecolors=\"none\", edgecolors=\"m\", s=80, label=\"Wrongly Classified\")\n",
    "\n",
    "    # Finally plot the line which represents the decision boundary\n",
    "    #ax.plot(x1, x2, color=\"green\", linestyle=\"--\", marker=None, label=\"boundary\")\n",
    "    # And plot the contours that separate the 1s from the 0s\n",
    "    plt.contour(xx1,xx2,preds_poly.reshape(xx1.shape), colors='g', linewidths=1)\n",
    "    if show_contours == 1:\n",
    "        # preds_poly_probs_0 for contours of probability of 0 -- i.e. prob(forged bank note)\n",
    "        # preds_poly_probs_1 for contours of probability of 1 -- i.e. prob(genuine bank note)\n",
    "        contour_probs = preds_poly_probs_1\n",
    "        cs = plt.contour(xx1,xx2,contour_probs.reshape(xx1.shape), linewidths=0.7)\n",
    "        plt.clabel(cs, inline=1, fontsize=12)\n",
    "\n",
    "    ax.legend(loc='lower right')\n",
    "    \n",
    "    title = 'Logistic Regression\\n'\n",
    "    title = title + 'Bank Note Validation Based on Feature Values ' + XTrain['feature1'] + ' and ' + XTrain['feature2'] + '\\n'\n",
    "    title = title + 'Polynomial Degree: ' + str(degree) + '\\n'\n",
    "    title = title + 'Number of misclassified points = ' + str(len(errors_poly))\n",
    "\n",
    "    plot = plt.title(title);\n",
    "    \n",
    "    return errors_poly, accuracy, confusion_matrix, report, plot"
   ]
  },
  {
   "cell_type": "markdown",
   "metadata": {
    "slideshow": {
     "slide_type": "slide"
    }
   },
   "source": [
    "...and this is what we saw last time for linear logistic regression"
   ]
  },
  {
   "cell_type": "code",
   "execution_count": 40,
   "metadata": {
    "slideshow": {
     "slide_type": "slide"
    }
   },
   "outputs": [
    {
     "name": "stdout",
     "output_type": "stream",
     "text": [
      "[LibLinear]"
     ]
    },
    {
     "data": {
      "image/png": "[encoded data removed]",
      "text/plain": [
       "<matplotlib.figure.Figure at 0x11e944f28>"
      ]
     },
     "metadata": {},
     "output_type": "display_data"
    }
   ],
   "source": [
    "# logistic regression - what we saw last time\n",
    "# NOTE: The contours are probabilities that the bank note is genuine\n",
    "errors, accuracy, conf_matrix, report, plot = poly_boundary_plot(X_train_v1_v2, \n",
    "                    y_train, \n",
    "                    degree=1, \n",
    "                    show_contours=0)"
   ]
  },
  {
   "cell_type": "code",
   "execution_count": 15,
   "metadata": {
    "slideshow": {
     "slide_type": "slide"
    }
   },
   "outputs": [
    {
     "data": {
      "text/html": [
       "<div>\n",
       "<style>\n",
       "    .dataframe thead tr:only-child th {\n",
       "        text-align: right;\n",
       "    }\n",
       "\n",
       "    .dataframe thead th {\n",
       "        text-align: left;\n",
       "    }\n",
       "\n",
       "    .dataframe tbody tr th {\n",
       "        vertical-align: top;\n",
       "    }\n",
       "</style>\n",
       "<table border=\"1\" class=\"dataframe\">\n",
       "  <thead>\n",
       "    <tr style=\"text-align: right;\">\n",
       "      <th></th>\n",
       "      <th>V1</th>\n",
       "      <th>V2</th>\n",
       "      <th>V3</th>\n",
       "      <th>V4</th>\n",
       "      <th>Genuine</th>\n",
       "    </tr>\n",
       "  </thead>\n",
       "  <tbody>\n",
       "    <tr>\n",
       "      <th>4</th>\n",
       "      <td>0.329240</td>\n",
       "      <td>-4.455200</td>\n",
       "      <td>4.57180</td>\n",
       "      <td>-0.988800</td>\n",
       "      <td>0</td>\n",
       "    </tr>\n",
       "    <tr>\n",
       "      <th>7</th>\n",
       "      <td>2.092200</td>\n",
       "      <td>-6.810000</td>\n",
       "      <td>8.46360</td>\n",
       "      <td>-0.602160</td>\n",
       "      <td>0</td>\n",
       "    </tr>\n",
       "    <tr>\n",
       "      <th>18</th>\n",
       "      <td>1.447900</td>\n",
       "      <td>-4.879400</td>\n",
       "      <td>8.34280</td>\n",
       "      <td>-2.108600</td>\n",
       "      <td>0</td>\n",
       "    </tr>\n",
       "    <tr>\n",
       "      <th>21</th>\n",
       "      <td>0.329200</td>\n",
       "      <td>-4.455200</td>\n",
       "      <td>4.57180</td>\n",
       "      <td>-0.988800</td>\n",
       "      <td>0</td>\n",
       "    </tr>\n",
       "    <tr>\n",
       "      <th>25</th>\n",
       "      <td>0.705700</td>\n",
       "      <td>-5.498100</td>\n",
       "      <td>8.33680</td>\n",
       "      <td>-2.871500</td>\n",
       "      <td>0</td>\n",
       "    </tr>\n",
       "    <tr>\n",
       "      <th>26</th>\n",
       "      <td>1.143200</td>\n",
       "      <td>-3.741300</td>\n",
       "      <td>5.57770</td>\n",
       "      <td>-0.635780</td>\n",
       "      <td>0</td>\n",
       "    </tr>\n",
       "    <tr>\n",
       "      <th>30</th>\n",
       "      <td>-0.248110</td>\n",
       "      <td>-0.177970</td>\n",
       "      <td>4.90680</td>\n",
       "      <td>0.154290</td>\n",
       "      <td>0</td>\n",
       "    </tr>\n",
       "    <tr>\n",
       "      <th>34</th>\n",
       "      <td>-1.616200</td>\n",
       "      <td>0.809080</td>\n",
       "      <td>8.16280</td>\n",
       "      <td>0.608170</td>\n",
       "      <td>0</td>\n",
       "    </tr>\n",
       "    <tr>\n",
       "      <th>86</th>\n",
       "      <td>-1.131300</td>\n",
       "      <td>1.903700</td>\n",
       "      <td>7.53390</td>\n",
       "      <td>1.022000</td>\n",
       "      <td>0</td>\n",
       "    </tr>\n",
       "    <tr>\n",
       "      <th>95</th>\n",
       "      <td>-0.644720</td>\n",
       "      <td>-4.606200</td>\n",
       "      <td>8.34700</td>\n",
       "      <td>-2.709900</td>\n",
       "      <td>0</td>\n",
       "    </tr>\n",
       "    <tr>\n",
       "      <th>97</th>\n",
       "      <td>2.161600</td>\n",
       "      <td>-6.880400</td>\n",
       "      <td>8.15170</td>\n",
       "      <td>-0.081048</td>\n",
       "      <td>0</td>\n",
       "    </tr>\n",
       "    <tr>\n",
       "      <th>99</th>\n",
       "      <td>-2.741900</td>\n",
       "      <td>11.403800</td>\n",
       "      <td>2.53940</td>\n",
       "      <td>-5.579300</td>\n",
       "      <td>0</td>\n",
       "    </tr>\n",
       "    <tr>\n",
       "      <th>107</th>\n",
       "      <td>-1.858400</td>\n",
       "      <td>7.886000</td>\n",
       "      <td>-1.66430</td>\n",
       "      <td>-1.838400</td>\n",
       "      <td>0</td>\n",
       "    </tr>\n",
       "    <tr>\n",
       "      <th>119</th>\n",
       "      <td>0.929700</td>\n",
       "      <td>-3.797100</td>\n",
       "      <td>4.64290</td>\n",
       "      <td>-0.295700</td>\n",
       "      <td>0</td>\n",
       "    </tr>\n",
       "    <tr>\n",
       "      <th>123</th>\n",
       "      <td>-1.507500</td>\n",
       "      <td>1.922400</td>\n",
       "      <td>7.14660</td>\n",
       "      <td>0.891360</td>\n",
       "      <td>0</td>\n",
       "    </tr>\n",
       "    <tr>\n",
       "      <th>145</th>\n",
       "      <td>0.519500</td>\n",
       "      <td>-3.263300</td>\n",
       "      <td>3.08950</td>\n",
       "      <td>-0.984900</td>\n",
       "      <td>0</td>\n",
       "    </tr>\n",
       "    <tr>\n",
       "      <th>172</th>\n",
       "      <td>-1.695200</td>\n",
       "      <td>1.065700</td>\n",
       "      <td>8.82940</td>\n",
       "      <td>0.949550</td>\n",
       "      <td>0</td>\n",
       "    </tr>\n",
       "    <tr>\n",
       "      <th>178</th>\n",
       "      <td>-0.131440</td>\n",
       "      <td>-1.777500</td>\n",
       "      <td>8.33160</td>\n",
       "      <td>0.352140</td>\n",
       "      <td>0</td>\n",
       "    </tr>\n",
       "    <tr>\n",
       "      <th>181</th>\n",
       "      <td>-0.117830</td>\n",
       "      <td>-1.578900</td>\n",
       "      <td>8.03000</td>\n",
       "      <td>-0.028031</td>\n",
       "      <td>0</td>\n",
       "    </tr>\n",
       "    <tr>\n",
       "      <th>190</th>\n",
       "      <td>0.929700</td>\n",
       "      <td>-3.797100</td>\n",
       "      <td>4.64290</td>\n",
       "      <td>-0.295700</td>\n",
       "      <td>0</td>\n",
       "    </tr>\n",
       "    <tr>\n",
       "      <th>195</th>\n",
       "      <td>-1.858400</td>\n",
       "      <td>7.886000</td>\n",
       "      <td>-1.66430</td>\n",
       "      <td>-1.838400</td>\n",
       "      <td>0</td>\n",
       "    </tr>\n",
       "    <tr>\n",
       "      <th>227</th>\n",
       "      <td>-2.647900</td>\n",
       "      <td>10.137400</td>\n",
       "      <td>-1.33100</td>\n",
       "      <td>-5.470700</td>\n",
       "      <td>0</td>\n",
       "    </tr>\n",
       "    <tr>\n",
       "      <th>230</th>\n",
       "      <td>-1.338900</td>\n",
       "      <td>1.552000</td>\n",
       "      <td>7.08060</td>\n",
       "      <td>1.031000</td>\n",
       "      <td>0</td>\n",
       "    </tr>\n",
       "    <tr>\n",
       "      <th>233</th>\n",
       "      <td>0.469010</td>\n",
       "      <td>-0.633210</td>\n",
       "      <td>7.38480</td>\n",
       "      <td>0.365070</td>\n",
       "      <td>0</td>\n",
       "    </tr>\n",
       "    <tr>\n",
       "      <th>241</th>\n",
       "      <td>-1.393100</td>\n",
       "      <td>1.566400</td>\n",
       "      <td>7.53820</td>\n",
       "      <td>0.784030</td>\n",
       "      <td>0</td>\n",
       "    </tr>\n",
       "    <tr>\n",
       "      <th>268</th>\n",
       "      <td>0.929700</td>\n",
       "      <td>-3.797100</td>\n",
       "      <td>4.64290</td>\n",
       "      <td>-0.295700</td>\n",
       "      <td>0</td>\n",
       "    </tr>\n",
       "    <tr>\n",
       "      <th>277</th>\n",
       "      <td>1.363800</td>\n",
       "      <td>-4.775900</td>\n",
       "      <td>8.41820</td>\n",
       "      <td>-1.883600</td>\n",
       "      <td>0</td>\n",
       "    </tr>\n",
       "    <tr>\n",
       "      <th>280</th>\n",
       "      <td>0.209770</td>\n",
       "      <td>-0.461460</td>\n",
       "      <td>7.72670</td>\n",
       "      <td>0.909460</td>\n",
       "      <td>0</td>\n",
       "    </tr>\n",
       "    <tr>\n",
       "      <th>283</th>\n",
       "      <td>0.322300</td>\n",
       "      <td>-0.898080</td>\n",
       "      <td>8.08830</td>\n",
       "      <td>0.692220</td>\n",
       "      <td>0</td>\n",
       "    </tr>\n",
       "    <tr>\n",
       "      <th>285</th>\n",
       "      <td>1.774700</td>\n",
       "      <td>-6.433400</td>\n",
       "      <td>8.15000</td>\n",
       "      <td>-0.898280</td>\n",
       "      <td>0</td>\n",
       "    </tr>\n",
       "    <tr>\n",
       "      <th>...</th>\n",
       "      <td>...</td>\n",
       "      <td>...</td>\n",
       "      <td>...</td>\n",
       "      <td>...</td>\n",
       "      <td>...</td>\n",
       "    </tr>\n",
       "    <tr>\n",
       "      <th>1163</th>\n",
       "      <td>0.681800</td>\n",
       "      <td>4.850400</td>\n",
       "      <td>-5.21330</td>\n",
       "      <td>-6.104300</td>\n",
       "      <td>1</td>\n",
       "    </tr>\n",
       "    <tr>\n",
       "      <th>1168</th>\n",
       "      <td>0.740670</td>\n",
       "      <td>1.729900</td>\n",
       "      <td>-3.19630</td>\n",
       "      <td>-0.145700</td>\n",
       "      <td>1</td>\n",
       "    </tr>\n",
       "    <tr>\n",
       "      <th>1169</th>\n",
       "      <td>0.982960</td>\n",
       "      <td>3.422600</td>\n",
       "      <td>-3.96920</td>\n",
       "      <td>-1.711600</td>\n",
       "      <td>1</td>\n",
       "    </tr>\n",
       "    <tr>\n",
       "      <th>1210</th>\n",
       "      <td>0.025013</td>\n",
       "      <td>3.399800</td>\n",
       "      <td>-4.43270</td>\n",
       "      <td>-4.265500</td>\n",
       "      <td>1</td>\n",
       "    </tr>\n",
       "    <tr>\n",
       "      <th>1216</th>\n",
       "      <td>0.600500</td>\n",
       "      <td>0.999450</td>\n",
       "      <td>-2.21260</td>\n",
       "      <td>0.097399</td>\n",
       "      <td>1</td>\n",
       "    </tr>\n",
       "    <tr>\n",
       "      <th>1217</th>\n",
       "      <td>0.616520</td>\n",
       "      <td>3.894400</td>\n",
       "      <td>-4.72750</td>\n",
       "      <td>-4.394800</td>\n",
       "      <td>1</td>\n",
       "    </tr>\n",
       "    <tr>\n",
       "      <th>1223</th>\n",
       "      <td>1.340300</td>\n",
       "      <td>4.132300</td>\n",
       "      <td>-4.70180</td>\n",
       "      <td>-2.598700</td>\n",
       "      <td>1</td>\n",
       "    </tr>\n",
       "    <tr>\n",
       "      <th>1224</th>\n",
       "      <td>0.268770</td>\n",
       "      <td>4.987000</td>\n",
       "      <td>-5.15080</td>\n",
       "      <td>-6.391300</td>\n",
       "      <td>1</td>\n",
       "    </tr>\n",
       "    <tr>\n",
       "      <th>1229</th>\n",
       "      <td>0.238740</td>\n",
       "      <td>2.087900</td>\n",
       "      <td>-3.35220</td>\n",
       "      <td>-0.665530</td>\n",
       "      <td>1</td>\n",
       "    </tr>\n",
       "    <tr>\n",
       "      <th>1230</th>\n",
       "      <td>0.621200</td>\n",
       "      <td>3.677100</td>\n",
       "      <td>-4.07710</td>\n",
       "      <td>-2.071100</td>\n",
       "      <td>1</td>\n",
       "    </tr>\n",
       "    <tr>\n",
       "      <th>1271</th>\n",
       "      <td>-0.071503</td>\n",
       "      <td>3.741200</td>\n",
       "      <td>-4.54150</td>\n",
       "      <td>-4.252600</td>\n",
       "      <td>1</td>\n",
       "    </tr>\n",
       "    <tr>\n",
       "      <th>1277</th>\n",
       "      <td>0.562320</td>\n",
       "      <td>1.001500</td>\n",
       "      <td>-2.27260</td>\n",
       "      <td>-0.006049</td>\n",
       "      <td>1</td>\n",
       "    </tr>\n",
       "    <tr>\n",
       "      <th>1278</th>\n",
       "      <td>0.539360</td>\n",
       "      <td>3.894400</td>\n",
       "      <td>-4.81660</td>\n",
       "      <td>-4.341800</td>\n",
       "      <td>1</td>\n",
       "    </tr>\n",
       "    <tr>\n",
       "      <th>1284</th>\n",
       "      <td>1.208000</td>\n",
       "      <td>4.074400</td>\n",
       "      <td>-4.76350</td>\n",
       "      <td>-2.612900</td>\n",
       "      <td>1</td>\n",
       "    </tr>\n",
       "    <tr>\n",
       "      <th>1285</th>\n",
       "      <td>0.295200</td>\n",
       "      <td>4.885600</td>\n",
       "      <td>-5.14900</td>\n",
       "      <td>-6.232300</td>\n",
       "      <td>1</td>\n",
       "    </tr>\n",
       "    <tr>\n",
       "      <th>1290</th>\n",
       "      <td>0.110320</td>\n",
       "      <td>1.974100</td>\n",
       "      <td>-3.36680</td>\n",
       "      <td>-0.652590</td>\n",
       "      <td>1</td>\n",
       "    </tr>\n",
       "    <tr>\n",
       "      <th>1291</th>\n",
       "      <td>0.523740</td>\n",
       "      <td>3.644000</td>\n",
       "      <td>-4.07460</td>\n",
       "      <td>-1.990900</td>\n",
       "      <td>1</td>\n",
       "    </tr>\n",
       "    <tr>\n",
       "      <th>1319</th>\n",
       "      <td>0.663650</td>\n",
       "      <td>-0.045533</td>\n",
       "      <td>-0.18794</td>\n",
       "      <td>0.234470</td>\n",
       "      <td>1</td>\n",
       "    </tr>\n",
       "    <tr>\n",
       "      <th>1324</th>\n",
       "      <td>0.062525</td>\n",
       "      <td>2.930100</td>\n",
       "      <td>-3.54670</td>\n",
       "      <td>-2.673700</td>\n",
       "      <td>1</td>\n",
       "    </tr>\n",
       "    <tr>\n",
       "      <th>1332</th>\n",
       "      <td>0.904070</td>\n",
       "      <td>3.370800</td>\n",
       "      <td>-4.49870</td>\n",
       "      <td>-3.696500</td>\n",
       "      <td>1</td>\n",
       "    </tr>\n",
       "    <tr>\n",
       "      <th>1338</th>\n",
       "      <td>1.581000</td>\n",
       "      <td>0.869090</td>\n",
       "      <td>-2.31380</td>\n",
       "      <td>0.824120</td>\n",
       "      <td>1</td>\n",
       "    </tr>\n",
       "    <tr>\n",
       "      <th>1339</th>\n",
       "      <td>1.551400</td>\n",
       "      <td>3.801300</td>\n",
       "      <td>-4.91430</td>\n",
       "      <td>-3.748300</td>\n",
       "      <td>1</td>\n",
       "    </tr>\n",
       "    <tr>\n",
       "      <th>1344</th>\n",
       "      <td>1.345100</td>\n",
       "      <td>0.235890</td>\n",
       "      <td>-1.87850</td>\n",
       "      <td>1.325800</td>\n",
       "      <td>1</td>\n",
       "    </tr>\n",
       "    <tr>\n",
       "      <th>1345</th>\n",
       "      <td>2.227900</td>\n",
       "      <td>4.095100</td>\n",
       "      <td>-4.80370</td>\n",
       "      <td>-2.111200</td>\n",
       "      <td>1</td>\n",
       "    </tr>\n",
       "    <tr>\n",
       "      <th>1346</th>\n",
       "      <td>1.257200</td>\n",
       "      <td>4.873100</td>\n",
       "      <td>-5.28610</td>\n",
       "      <td>-5.874100</td>\n",
       "      <td>1</td>\n",
       "    </tr>\n",
       "    <tr>\n",
       "      <th>1351</th>\n",
       "      <td>1.318300</td>\n",
       "      <td>1.901700</td>\n",
       "      <td>-3.31110</td>\n",
       "      <td>0.065071</td>\n",
       "      <td>1</td>\n",
       "    </tr>\n",
       "    <tr>\n",
       "      <th>1352</th>\n",
       "      <td>1.489600</td>\n",
       "      <td>3.428800</td>\n",
       "      <td>-4.03090</td>\n",
       "      <td>-1.425900</td>\n",
       "      <td>1</td>\n",
       "    </tr>\n",
       "    <tr>\n",
       "      <th>1353</th>\n",
       "      <td>0.115920</td>\n",
       "      <td>3.221900</td>\n",
       "      <td>-3.43020</td>\n",
       "      <td>-2.845700</td>\n",
       "      <td>1</td>\n",
       "    </tr>\n",
       "    <tr>\n",
       "      <th>1359</th>\n",
       "      <td>0.066129</td>\n",
       "      <td>2.491400</td>\n",
       "      <td>-2.94010</td>\n",
       "      <td>-0.621560</td>\n",
       "      <td>1</td>\n",
       "    </tr>\n",
       "    <tr>\n",
       "      <th>1367</th>\n",
       "      <td>0.406140</td>\n",
       "      <td>1.349200</td>\n",
       "      <td>-1.45010</td>\n",
       "      <td>-0.559490</td>\n",
       "      <td>1</td>\n",
       "    </tr>\n",
       "  </tbody>\n",
       "</table>\n",
       "<p>157 rows × 5 columns</p>\n",
       "</div>"
      ],
      "text/plain": [
       "            V1         V2       V3        V4  Genuine\n",
       "4     0.329240  -4.455200  4.57180 -0.988800        0\n",
       "7     2.092200  -6.810000  8.46360 -0.602160        0\n",
       "18    1.447900  -4.879400  8.34280 -2.108600        0\n",
       "21    0.329200  -4.455200  4.57180 -0.988800        0\n",
       "25    0.705700  -5.498100  8.33680 -2.871500        0\n",
       "26    1.143200  -3.741300  5.57770 -0.635780        0\n",
       "30   -0.248110  -0.177970  4.90680  0.154290        0\n",
       "34   -1.616200   0.809080  8.16280  0.608170        0\n",
       "86   -1.131300   1.903700  7.53390  1.022000        0\n",
       "95   -0.644720  -4.606200  8.34700 -2.709900        0\n",
       "97    2.161600  -6.880400  8.15170 -0.081048        0\n",
       "99   -2.741900  11.403800  2.53940 -5.579300        0\n",
       "107  -1.858400   7.886000 -1.66430 -1.838400        0\n",
       "119   0.929700  -3.797100  4.64290 -0.295700        0\n",
       "123  -1.507500   1.922400  7.14660  0.891360        0\n",
       "145   0.519500  -3.263300  3.08950 -0.984900        0\n",
       "172  -1.695200   1.065700  8.82940  0.949550        0\n",
       "178  -0.131440  -1.777500  8.33160  0.352140        0\n",
       "181  -0.117830  -1.578900  8.03000 -0.028031        0\n",
       "190   0.929700  -3.797100  4.64290 -0.295700        0\n",
       "195  -1.858400   7.886000 -1.66430 -1.838400        0\n",
       "227  -2.647900  10.137400 -1.33100 -5.470700        0\n",
       "230  -1.338900   1.552000  7.08060  1.031000        0\n",
       "233   0.469010  -0.633210  7.38480  0.365070        0\n",
       "241  -1.393100   1.566400  7.53820  0.784030        0\n",
       "268   0.929700  -3.797100  4.64290 -0.295700        0\n",
       "277   1.363800  -4.775900  8.41820 -1.883600        0\n",
       "280   0.209770  -0.461460  7.72670  0.909460        0\n",
       "283   0.322300  -0.898080  8.08830  0.692220        0\n",
       "285   1.774700  -6.433400  8.15000 -0.898280        0\n",
       "...        ...        ...      ...       ...      ...\n",
       "1163  0.681800   4.850400 -5.21330 -6.104300        1\n",
       "1168  0.740670   1.729900 -3.19630 -0.145700        1\n",
       "1169  0.982960   3.422600 -3.96920 -1.711600        1\n",
       "1210  0.025013   3.399800 -4.43270 -4.265500        1\n",
       "1216  0.600500   0.999450 -2.21260  0.097399        1\n",
       "1217  0.616520   3.894400 -4.72750 -4.394800        1\n",
       "1223  1.340300   4.132300 -4.70180 -2.598700        1\n",
       "1224  0.268770   4.987000 -5.15080 -6.391300        1\n",
       "1229  0.238740   2.087900 -3.35220 -0.665530        1\n",
       "1230  0.621200   3.677100 -4.07710 -2.071100        1\n",
       "1271 -0.071503   3.741200 -4.54150 -4.252600        1\n",
       "1277  0.562320   1.001500 -2.27260 -0.006049        1\n",
       "1278  0.539360   3.894400 -4.81660 -4.341800        1\n",
       "1284  1.208000   4.074400 -4.76350 -2.612900        1\n",
       "1285  0.295200   4.885600 -5.14900 -6.232300        1\n",
       "1290  0.110320   1.974100 -3.36680 -0.652590        1\n",
       "1291  0.523740   3.644000 -4.07460 -1.990900        1\n",
       "1319  0.663650  -0.045533 -0.18794  0.234470        1\n",
       "1324  0.062525   2.930100 -3.54670 -2.673700        1\n",
       "1332  0.904070   3.370800 -4.49870 -3.696500        1\n",
       "1338  1.581000   0.869090 -2.31380  0.824120        1\n",
       "1339  1.551400   3.801300 -4.91430 -3.748300        1\n",
       "1344  1.345100   0.235890 -1.87850  1.325800        1\n",
       "1345  2.227900   4.095100 -4.80370 -2.111200        1\n",
       "1346  1.257200   4.873100 -5.28610 -5.874100        1\n",
       "1351  1.318300   1.901700 -3.31110  0.065071        1\n",
       "1352  1.489600   3.428800 -4.03090 -1.425900        1\n",
       "1353  0.115920   3.221900 -3.43020 -2.845700        1\n",
       "1359  0.066129   2.491400 -2.94010 -0.621560        1\n",
       "1367  0.406140   1.349200 -1.45010 -0.559490        1\n",
       "\n",
       "[157 rows x 5 columns]"
      ]
     },
     "execution_count": 15,
     "metadata": {},
     "output_type": "execute_result"
    }
   ],
   "source": [
    "# Which rows of the dataset are misclassfied?\n",
    "errors"
   ]
  },
  {
   "cell_type": "code",
   "execution_count": 16,
   "metadata": {
    "slideshow": {
     "slide_type": "skip"
    }
   },
   "outputs": [
    {
     "data": {
      "text/plain": [
       "0.88556851311953355"
      ]
     },
     "execution_count": 16,
     "metadata": {},
     "output_type": "execute_result"
    }
   ],
   "source": [
    "# Classification accuracy\n",
    "accuracy"
   ]
  },
  {
   "cell_type": "code",
   "execution_count": 17,
   "metadata": {
    "slideshow": {
     "slide_type": "skip"
    }
   },
   "outputs": [
    {
     "name": "stdout",
     "output_type": "stream",
     "text": [
      "[[693  69]\n",
      " [ 88 522]]\n"
     ]
    }
   ],
   "source": [
    "# Comfusion Matrix\n",
    "print(conf_matrix)"
   ]
  },
  {
   "cell_type": "code",
   "execution_count": 18,
   "metadata": {
    "slideshow": {
     "slide_type": "skip"
    }
   },
   "outputs": [
    {
     "data": {
      "text/plain": [
       "(693, 69, 88, 522)"
      ]
     },
     "execution_count": 18,
     "metadata": {},
     "output_type": "execute_result"
    }
   ],
   "source": [
    "# True negatives, false positives, false negatives, and true positives\n",
    "tn, fp, fn, tp = conf_matrix.ravel()\n",
    "tn, fp, fn, tp"
   ]
  },
  {
   "cell_type": "code",
   "execution_count": 19,
   "metadata": {
    "slideshow": {
     "slide_type": "skip"
    }
   },
   "outputs": [
    {
     "name": "stdout",
     "output_type": "stream",
     "text": [
      "             precision    recall  f1-score   support\n",
      "\n",
      "          0       0.89      0.91      0.90       762\n",
      "          1       0.88      0.86      0.87       610\n",
      "\n",
      "avg / total       0.89      0.89      0.89      1372\n",
      "\n"
     ]
    }
   ],
   "source": [
    "# Precision, recall, f1-score\n",
    "print(report)"
   ]
  },
  {
   "cell_type": "markdown",
   "metadata": {
    "slideshow": {
     "slide_type": "slide"
    }
   },
   "source": [
    "## Non-Linear Logistic Regression"
   ]
  },
  {
   "cell_type": "code",
   "execution_count": 51,
   "metadata": {
    "slideshow": {
     "slide_type": "slide"
    }
   },
   "outputs": [
    {
     "name": "stdout",
     "output_type": "stream",
     "text": [
      "[LibLinear]"
     ]
    },
    {
     "name": "stderr",
     "output_type": "stream",
     "text": [
      "/anaconda/lib/python3.6/site-packages/sklearn/linear_model/base.py:340: RuntimeWarning: overflow encountered in exp\n",
      "  np.exp(prob, prob)\n"
     ]
    },
    {
     "data": {
      "image/png": "[encoded data removed]",
      "text/plain": [
       "<matplotlib.figure.Figure at 0x11805f128>"
      ]
     },
     "metadata": {},
     "output_type": "display_data"
    }
   ],
   "source": [
    "# logistic regression\n",
    "# NOTE: The contours are probabilities that the bank note is genuine\n",
    "errors, accuracy, conf_matrix, report, plot = poly_boundary_plot(X_train_v1_v2, \n",
    "                                                y_train, \n",
    "                                                degree=9, \n",
    "                                                show_contours=1)"
   ]
  },
  {
   "cell_type": "code",
   "execution_count": 21,
   "metadata": {
    "slideshow": {
     "slide_type": "skip"
    }
   },
   "outputs": [
    {
     "data": {
      "text/html": [
       "<div>\n",
       "<style>\n",
       "    .dataframe thead tr:only-child th {\n",
       "        text-align: right;\n",
       "    }\n",
       "\n",
       "    .dataframe thead th {\n",
       "        text-align: left;\n",
       "    }\n",
       "\n",
       "    .dataframe tbody tr th {\n",
       "        vertical-align: top;\n",
       "    }\n",
       "</style>\n",
       "<table border=\"1\" class=\"dataframe\">\n",
       "  <thead>\n",
       "    <tr style=\"text-align: right;\">\n",
       "      <th></th>\n",
       "      <th>V1</th>\n",
       "      <th>V2</th>\n",
       "      <th>V3</th>\n",
       "      <th>V4</th>\n",
       "      <th>Genuine</th>\n",
       "    </tr>\n",
       "  </thead>\n",
       "  <tbody>\n",
       "    <tr>\n",
       "      <th>13</th>\n",
       "      <td>-1.576800</td>\n",
       "      <td>10.843000</td>\n",
       "      <td>2.54620</td>\n",
       "      <td>-2.936200</td>\n",
       "      <td>0</td>\n",
       "    </tr>\n",
       "    <tr>\n",
       "      <th>17</th>\n",
       "      <td>0.803550</td>\n",
       "      <td>2.847300</td>\n",
       "      <td>4.34390</td>\n",
       "      <td>0.601700</td>\n",
       "      <td>0</td>\n",
       "    </tr>\n",
       "    <tr>\n",
       "      <th>30</th>\n",
       "      <td>-0.248110</td>\n",
       "      <td>-0.177970</td>\n",
       "      <td>4.90680</td>\n",
       "      <td>0.154290</td>\n",
       "      <td>0</td>\n",
       "    </tr>\n",
       "    <tr>\n",
       "      <th>34</th>\n",
       "      <td>-1.616200</td>\n",
       "      <td>0.809080</td>\n",
       "      <td>8.16280</td>\n",
       "      <td>0.608170</td>\n",
       "      <td>0</td>\n",
       "    </tr>\n",
       "    <tr>\n",
       "      <th>77</th>\n",
       "      <td>0.049175</td>\n",
       "      <td>6.143700</td>\n",
       "      <td>1.78280</td>\n",
       "      <td>-0.721130</td>\n",
       "      <td>0</td>\n",
       "    </tr>\n",
       "    <tr>\n",
       "      <th>86</th>\n",
       "      <td>-1.131300</td>\n",
       "      <td>1.903700</td>\n",
       "      <td>7.53390</td>\n",
       "      <td>1.022000</td>\n",
       "      <td>0</td>\n",
       "    </tr>\n",
       "    <tr>\n",
       "      <th>95</th>\n",
       "      <td>-0.644720</td>\n",
       "      <td>-4.606200</td>\n",
       "      <td>8.34700</td>\n",
       "      <td>-2.709900</td>\n",
       "      <td>0</td>\n",
       "    </tr>\n",
       "    <tr>\n",
       "      <th>106</th>\n",
       "      <td>2.313600</td>\n",
       "      <td>10.665100</td>\n",
       "      <td>-3.52880</td>\n",
       "      <td>-4.767200</td>\n",
       "      <td>0</td>\n",
       "    </tr>\n",
       "    <tr>\n",
       "      <th>107</th>\n",
       "      <td>-1.858400</td>\n",
       "      <td>7.886000</td>\n",
       "      <td>-1.66430</td>\n",
       "      <td>-1.838400</td>\n",
       "      <td>0</td>\n",
       "    </tr>\n",
       "    <tr>\n",
       "      <th>123</th>\n",
       "      <td>-1.507500</td>\n",
       "      <td>1.922400</td>\n",
       "      <td>7.14660</td>\n",
       "      <td>0.891360</td>\n",
       "      <td>0</td>\n",
       "    </tr>\n",
       "    <tr>\n",
       "      <th>151</th>\n",
       "      <td>-1.759900</td>\n",
       "      <td>11.921100</td>\n",
       "      <td>2.67560</td>\n",
       "      <td>-3.324100</td>\n",
       "      <td>0</td>\n",
       "    </tr>\n",
       "    <tr>\n",
       "      <th>172</th>\n",
       "      <td>-1.695200</td>\n",
       "      <td>1.065700</td>\n",
       "      <td>8.82940</td>\n",
       "      <td>0.949550</td>\n",
       "      <td>0</td>\n",
       "    </tr>\n",
       "    <tr>\n",
       "      <th>178</th>\n",
       "      <td>-0.131440</td>\n",
       "      <td>-1.777500</td>\n",
       "      <td>8.33160</td>\n",
       "      <td>0.352140</td>\n",
       "      <td>0</td>\n",
       "    </tr>\n",
       "    <tr>\n",
       "      <th>181</th>\n",
       "      <td>-0.117830</td>\n",
       "      <td>-1.578900</td>\n",
       "      <td>8.03000</td>\n",
       "      <td>-0.028031</td>\n",
       "      <td>0</td>\n",
       "    </tr>\n",
       "    <tr>\n",
       "      <th>195</th>\n",
       "      <td>-1.858400</td>\n",
       "      <td>7.886000</td>\n",
       "      <td>-1.66430</td>\n",
       "      <td>-1.838400</td>\n",
       "      <td>0</td>\n",
       "    </tr>\n",
       "    <tr>\n",
       "      <th>200</th>\n",
       "      <td>-2.089700</td>\n",
       "      <td>10.826500</td>\n",
       "      <td>2.36030</td>\n",
       "      <td>-3.419800</td>\n",
       "      <td>0</td>\n",
       "    </tr>\n",
       "    <tr>\n",
       "      <th>213</th>\n",
       "      <td>0.680870</td>\n",
       "      <td>2.325900</td>\n",
       "      <td>4.90850</td>\n",
       "      <td>0.549980</td>\n",
       "      <td>0</td>\n",
       "    </tr>\n",
       "    <tr>\n",
       "      <th>220</th>\n",
       "      <td>-2.226100</td>\n",
       "      <td>12.539800</td>\n",
       "      <td>2.94380</td>\n",
       "      <td>-3.525800</td>\n",
       "      <td>0</td>\n",
       "    </tr>\n",
       "    <tr>\n",
       "      <th>224</th>\n",
       "      <td>-0.360380</td>\n",
       "      <td>4.115800</td>\n",
       "      <td>3.11430</td>\n",
       "      <td>-0.371990</td>\n",
       "      <td>0</td>\n",
       "    </tr>\n",
       "    <tr>\n",
       "      <th>230</th>\n",
       "      <td>-1.338900</td>\n",
       "      <td>1.552000</td>\n",
       "      <td>7.08060</td>\n",
       "      <td>1.031000</td>\n",
       "      <td>0</td>\n",
       "    </tr>\n",
       "    <tr>\n",
       "      <th>233</th>\n",
       "      <td>0.469010</td>\n",
       "      <td>-0.633210</td>\n",
       "      <td>7.38480</td>\n",
       "      <td>0.365070</td>\n",
       "      <td>0</td>\n",
       "    </tr>\n",
       "    <tr>\n",
       "      <th>241</th>\n",
       "      <td>-1.393100</td>\n",
       "      <td>1.566400</td>\n",
       "      <td>7.53820</td>\n",
       "      <td>0.784030</td>\n",
       "      <td>0</td>\n",
       "    </tr>\n",
       "    <tr>\n",
       "      <th>251</th>\n",
       "      <td>0.574610</td>\n",
       "      <td>10.110500</td>\n",
       "      <td>-1.69170</td>\n",
       "      <td>-4.392200</td>\n",
       "      <td>0</td>\n",
       "    </tr>\n",
       "    <tr>\n",
       "      <th>266</th>\n",
       "      <td>-0.016103</td>\n",
       "      <td>9.748400</td>\n",
       "      <td>0.15394</td>\n",
       "      <td>-1.613400</td>\n",
       "      <td>0</td>\n",
       "    </tr>\n",
       "    <tr>\n",
       "      <th>280</th>\n",
       "      <td>0.209770</td>\n",
       "      <td>-0.461460</td>\n",
       "      <td>7.72670</td>\n",
       "      <td>0.909460</td>\n",
       "      <td>0</td>\n",
       "    </tr>\n",
       "    <tr>\n",
       "      <th>283</th>\n",
       "      <td>0.322300</td>\n",
       "      <td>-0.898080</td>\n",
       "      <td>8.08830</td>\n",
       "      <td>0.692220</td>\n",
       "      <td>0</td>\n",
       "    </tr>\n",
       "    <tr>\n",
       "      <th>287</th>\n",
       "      <td>0.896060</td>\n",
       "      <td>10.547100</td>\n",
       "      <td>-1.41750</td>\n",
       "      <td>-4.032700</td>\n",
       "      <td>0</td>\n",
       "    </tr>\n",
       "    <tr>\n",
       "      <th>288</th>\n",
       "      <td>0.441250</td>\n",
       "      <td>2.948700</td>\n",
       "      <td>4.32250</td>\n",
       "      <td>0.715500</td>\n",
       "      <td>0</td>\n",
       "    </tr>\n",
       "    <tr>\n",
       "      <th>303</th>\n",
       "      <td>-1.917700</td>\n",
       "      <td>11.689400</td>\n",
       "      <td>2.54540</td>\n",
       "      <td>-3.276300</td>\n",
       "      <td>0</td>\n",
       "    </tr>\n",
       "    <tr>\n",
       "      <th>306</th>\n",
       "      <td>0.274510</td>\n",
       "      <td>9.218600</td>\n",
       "      <td>-3.28630</td>\n",
       "      <td>-4.844800</td>\n",
       "      <td>0</td>\n",
       "    </tr>\n",
       "    <tr>\n",
       "      <th>...</th>\n",
       "      <td>...</td>\n",
       "      <td>...</td>\n",
       "      <td>...</td>\n",
       "      <td>...</td>\n",
       "      <td>...</td>\n",
       "    </tr>\n",
       "    <tr>\n",
       "      <th>1155</th>\n",
       "      <td>1.011700</td>\n",
       "      <td>0.902200</td>\n",
       "      <td>-2.35060</td>\n",
       "      <td>0.427140</td>\n",
       "      <td>1</td>\n",
       "    </tr>\n",
       "    <tr>\n",
       "      <th>1161</th>\n",
       "      <td>0.704900</td>\n",
       "      <td>0.171740</td>\n",
       "      <td>-1.78590</td>\n",
       "      <td>0.361190</td>\n",
       "      <td>1</td>\n",
       "    </tr>\n",
       "    <tr>\n",
       "      <th>1162</th>\n",
       "      <td>1.733100</td>\n",
       "      <td>3.954400</td>\n",
       "      <td>-4.74120</td>\n",
       "      <td>-2.501700</td>\n",
       "      <td>1</td>\n",
       "    </tr>\n",
       "    <tr>\n",
       "      <th>1168</th>\n",
       "      <td>0.740670</td>\n",
       "      <td>1.729900</td>\n",
       "      <td>-3.19630</td>\n",
       "      <td>-0.145700</td>\n",
       "      <td>1</td>\n",
       "    </tr>\n",
       "    <tr>\n",
       "      <th>1169</th>\n",
       "      <td>0.982960</td>\n",
       "      <td>3.422600</td>\n",
       "      <td>-3.96920</td>\n",
       "      <td>-1.711600</td>\n",
       "      <td>1</td>\n",
       "    </tr>\n",
       "    <tr>\n",
       "      <th>1170</th>\n",
       "      <td>-0.348900</td>\n",
       "      <td>3.192900</td>\n",
       "      <td>-3.40540</td>\n",
       "      <td>-3.183200</td>\n",
       "      <td>1</td>\n",
       "    </tr>\n",
       "    <tr>\n",
       "      <th>1202</th>\n",
       "      <td>-0.703460</td>\n",
       "      <td>2.957000</td>\n",
       "      <td>-3.59470</td>\n",
       "      <td>-3.145700</td>\n",
       "      <td>1</td>\n",
       "    </tr>\n",
       "    <tr>\n",
       "      <th>1210</th>\n",
       "      <td>0.025013</td>\n",
       "      <td>3.399800</td>\n",
       "      <td>-4.43270</td>\n",
       "      <td>-4.265500</td>\n",
       "      <td>1</td>\n",
       "    </tr>\n",
       "    <tr>\n",
       "      <th>1216</th>\n",
       "      <td>0.600500</td>\n",
       "      <td>0.999450</td>\n",
       "      <td>-2.21260</td>\n",
       "      <td>0.097399</td>\n",
       "      <td>1</td>\n",
       "    </tr>\n",
       "    <tr>\n",
       "      <th>1223</th>\n",
       "      <td>1.340300</td>\n",
       "      <td>4.132300</td>\n",
       "      <td>-4.70180</td>\n",
       "      <td>-2.598700</td>\n",
       "      <td>1</td>\n",
       "    </tr>\n",
       "    <tr>\n",
       "      <th>1224</th>\n",
       "      <td>0.268770</td>\n",
       "      <td>4.987000</td>\n",
       "      <td>-5.15080</td>\n",
       "      <td>-6.391300</td>\n",
       "      <td>1</td>\n",
       "    </tr>\n",
       "    <tr>\n",
       "      <th>1230</th>\n",
       "      <td>0.621200</td>\n",
       "      <td>3.677100</td>\n",
       "      <td>-4.07710</td>\n",
       "      <td>-2.071100</td>\n",
       "      <td>1</td>\n",
       "    </tr>\n",
       "    <tr>\n",
       "      <th>1231</th>\n",
       "      <td>-0.778480</td>\n",
       "      <td>3.401900</td>\n",
       "      <td>-3.48590</td>\n",
       "      <td>-3.556900</td>\n",
       "      <td>1</td>\n",
       "    </tr>\n",
       "    <tr>\n",
       "      <th>1263</th>\n",
       "      <td>-0.878340</td>\n",
       "      <td>3.257000</td>\n",
       "      <td>-3.67780</td>\n",
       "      <td>-3.294400</td>\n",
       "      <td>1</td>\n",
       "    </tr>\n",
       "    <tr>\n",
       "      <th>1271</th>\n",
       "      <td>-0.071503</td>\n",
       "      <td>3.741200</td>\n",
       "      <td>-4.54150</td>\n",
       "      <td>-4.252600</td>\n",
       "      <td>1</td>\n",
       "    </tr>\n",
       "    <tr>\n",
       "      <th>1277</th>\n",
       "      <td>0.562320</td>\n",
       "      <td>1.001500</td>\n",
       "      <td>-2.27260</td>\n",
       "      <td>-0.006049</td>\n",
       "      <td>1</td>\n",
       "    </tr>\n",
       "    <tr>\n",
       "      <th>1284</th>\n",
       "      <td>1.208000</td>\n",
       "      <td>4.074400</td>\n",
       "      <td>-4.76350</td>\n",
       "      <td>-2.612900</td>\n",
       "      <td>1</td>\n",
       "    </tr>\n",
       "    <tr>\n",
       "      <th>1291</th>\n",
       "      <td>0.523740</td>\n",
       "      <td>3.644000</td>\n",
       "      <td>-4.07460</td>\n",
       "      <td>-1.990900</td>\n",
       "      <td>1</td>\n",
       "    </tr>\n",
       "    <tr>\n",
       "      <th>1292</th>\n",
       "      <td>-0.767940</td>\n",
       "      <td>3.459800</td>\n",
       "      <td>-3.44050</td>\n",
       "      <td>-3.427600</td>\n",
       "      <td>1</td>\n",
       "    </tr>\n",
       "    <tr>\n",
       "      <th>1319</th>\n",
       "      <td>0.663650</td>\n",
       "      <td>-0.045533</td>\n",
       "      <td>-0.18794</td>\n",
       "      <td>0.234470</td>\n",
       "      <td>1</td>\n",
       "    </tr>\n",
       "    <tr>\n",
       "      <th>1324</th>\n",
       "      <td>0.062525</td>\n",
       "      <td>2.930100</td>\n",
       "      <td>-3.54670</td>\n",
       "      <td>-2.673700</td>\n",
       "      <td>1</td>\n",
       "    </tr>\n",
       "    <tr>\n",
       "      <th>1332</th>\n",
       "      <td>0.904070</td>\n",
       "      <td>3.370800</td>\n",
       "      <td>-4.49870</td>\n",
       "      <td>-3.696500</td>\n",
       "      <td>1</td>\n",
       "    </tr>\n",
       "    <tr>\n",
       "      <th>1338</th>\n",
       "      <td>1.581000</td>\n",
       "      <td>0.869090</td>\n",
       "      <td>-2.31380</td>\n",
       "      <td>0.824120</td>\n",
       "      <td>1</td>\n",
       "    </tr>\n",
       "    <tr>\n",
       "      <th>1339</th>\n",
       "      <td>1.551400</td>\n",
       "      <td>3.801300</td>\n",
       "      <td>-4.91430</td>\n",
       "      <td>-3.748300</td>\n",
       "      <td>1</td>\n",
       "    </tr>\n",
       "    <tr>\n",
       "      <th>1344</th>\n",
       "      <td>1.345100</td>\n",
       "      <td>0.235890</td>\n",
       "      <td>-1.87850</td>\n",
       "      <td>1.325800</td>\n",
       "      <td>1</td>\n",
       "    </tr>\n",
       "    <tr>\n",
       "      <th>1345</th>\n",
       "      <td>2.227900</td>\n",
       "      <td>4.095100</td>\n",
       "      <td>-4.80370</td>\n",
       "      <td>-2.111200</td>\n",
       "      <td>1</td>\n",
       "    </tr>\n",
       "    <tr>\n",
       "      <th>1351</th>\n",
       "      <td>1.318300</td>\n",
       "      <td>1.901700</td>\n",
       "      <td>-3.31110</td>\n",
       "      <td>0.065071</td>\n",
       "      <td>1</td>\n",
       "    </tr>\n",
       "    <tr>\n",
       "      <th>1352</th>\n",
       "      <td>1.489600</td>\n",
       "      <td>3.428800</td>\n",
       "      <td>-4.03090</td>\n",
       "      <td>-1.425900</td>\n",
       "      <td>1</td>\n",
       "    </tr>\n",
       "    <tr>\n",
       "      <th>1353</th>\n",
       "      <td>0.115920</td>\n",
       "      <td>3.221900</td>\n",
       "      <td>-3.43020</td>\n",
       "      <td>-2.845700</td>\n",
       "      <td>1</td>\n",
       "    </tr>\n",
       "    <tr>\n",
       "      <th>1367</th>\n",
       "      <td>0.406140</td>\n",
       "      <td>1.349200</td>\n",
       "      <td>-1.45010</td>\n",
       "      <td>-0.559490</td>\n",
       "      <td>1</td>\n",
       "    </tr>\n",
       "  </tbody>\n",
       "</table>\n",
       "<p>148 rows × 5 columns</p>\n",
       "</div>"
      ],
      "text/plain": [
       "            V1         V2       V3        V4  Genuine\n",
       "13   -1.576800  10.843000  2.54620 -2.936200        0\n",
       "17    0.803550   2.847300  4.34390  0.601700        0\n",
       "30   -0.248110  -0.177970  4.90680  0.154290        0\n",
       "34   -1.616200   0.809080  8.16280  0.608170        0\n",
       "77    0.049175   6.143700  1.78280 -0.721130        0\n",
       "86   -1.131300   1.903700  7.53390  1.022000        0\n",
       "95   -0.644720  -4.606200  8.34700 -2.709900        0\n",
       "106   2.313600  10.665100 -3.52880 -4.767200        0\n",
       "107  -1.858400   7.886000 -1.66430 -1.838400        0\n",
       "123  -1.507500   1.922400  7.14660  0.891360        0\n",
       "151  -1.759900  11.921100  2.67560 -3.324100        0\n",
       "172  -1.695200   1.065700  8.82940  0.949550        0\n",
       "178  -0.131440  -1.777500  8.33160  0.352140        0\n",
       "181  -0.117830  -1.578900  8.03000 -0.028031        0\n",
       "195  -1.858400   7.886000 -1.66430 -1.838400        0\n",
       "200  -2.089700  10.826500  2.36030 -3.419800        0\n",
       "213   0.680870   2.325900  4.90850  0.549980        0\n",
       "220  -2.226100  12.539800  2.94380 -3.525800        0\n",
       "224  -0.360380   4.115800  3.11430 -0.371990        0\n",
       "230  -1.338900   1.552000  7.08060  1.031000        0\n",
       "233   0.469010  -0.633210  7.38480  0.365070        0\n",
       "241  -1.393100   1.566400  7.53820  0.784030        0\n",
       "251   0.574610  10.110500 -1.69170 -4.392200        0\n",
       "266  -0.016103   9.748400  0.15394 -1.613400        0\n",
       "280   0.209770  -0.461460  7.72670  0.909460        0\n",
       "283   0.322300  -0.898080  8.08830  0.692220        0\n",
       "287   0.896060  10.547100 -1.41750 -4.032700        0\n",
       "288   0.441250   2.948700  4.32250  0.715500        0\n",
       "303  -1.917700  11.689400  2.54540 -3.276300        0\n",
       "306   0.274510   9.218600 -3.28630 -4.844800        0\n",
       "...        ...        ...      ...       ...      ...\n",
       "1155  1.011700   0.902200 -2.35060  0.427140        1\n",
       "1161  0.704900   0.171740 -1.78590  0.361190        1\n",
       "1162  1.733100   3.954400 -4.74120 -2.501700        1\n",
       "1168  0.740670   1.729900 -3.19630 -0.145700        1\n",
       "1169  0.982960   3.422600 -3.96920 -1.711600        1\n",
       "1170 -0.348900   3.192900 -3.40540 -3.183200        1\n",
       "1202 -0.703460   2.957000 -3.59470 -3.145700        1\n",
       "1210  0.025013   3.399800 -4.43270 -4.265500        1\n",
       "1216  0.600500   0.999450 -2.21260  0.097399        1\n",
       "1223  1.340300   4.132300 -4.70180 -2.598700        1\n",
       "1224  0.268770   4.987000 -5.15080 -6.391300        1\n",
       "1230  0.621200   3.677100 -4.07710 -2.071100        1\n",
       "1231 -0.778480   3.401900 -3.48590 -3.556900        1\n",
       "1263 -0.878340   3.257000 -3.67780 -3.294400        1\n",
       "1271 -0.071503   3.741200 -4.54150 -4.252600        1\n",
       "1277  0.562320   1.001500 -2.27260 -0.006049        1\n",
       "1284  1.208000   4.074400 -4.76350 -2.612900        1\n",
       "1291  0.523740   3.644000 -4.07460 -1.990900        1\n",
       "1292 -0.767940   3.459800 -3.44050 -3.427600        1\n",
       "1319  0.663650  -0.045533 -0.18794  0.234470        1\n",
       "1324  0.062525   2.930100 -3.54670 -2.673700        1\n",
       "1332  0.904070   3.370800 -4.49870 -3.696500        1\n",
       "1338  1.581000   0.869090 -2.31380  0.824120        1\n",
       "1339  1.551400   3.801300 -4.91430 -3.748300        1\n",
       "1344  1.345100   0.235890 -1.87850  1.325800        1\n",
       "1345  2.227900   4.095100 -4.80370 -2.111200        1\n",
       "1351  1.318300   1.901700 -3.31110  0.065071        1\n",
       "1352  1.489600   3.428800 -4.03090 -1.425900        1\n",
       "1353  0.115920   3.221900 -3.43020 -2.845700        1\n",
       "1367  0.406140   1.349200 -1.45010 -0.559490        1\n",
       "\n",
       "[148 rows x 5 columns]"
      ]
     },
     "execution_count": 21,
     "metadata": {},
     "output_type": "execute_result"
    }
   ],
   "source": [
    "# Which rows of the dataset are misclassfied?\n",
    "errors"
   ]
  },
  {
   "cell_type": "code",
   "execution_count": 22,
   "metadata": {
    "slideshow": {
     "slide_type": "skip"
    }
   },
   "outputs": [
    {
     "data": {
      "text/plain": [
       "0.89212827988338195"
      ]
     },
     "execution_count": 22,
     "metadata": {},
     "output_type": "execute_result"
    }
   ],
   "source": [
    "# Classification accuracy\n",
    "accuracy"
   ]
  },
  {
   "cell_type": "code",
   "execution_count": 23,
   "metadata": {
    "slideshow": {
     "slide_type": "skip"
    }
   },
   "outputs": [
    {
     "name": "stdout",
     "output_type": "stream",
     "text": [
      "[[687  75]\n",
      " [ 73 537]]\n"
     ]
    }
   ],
   "source": [
    "# Comfusion Matrix\n",
    "print(conf_matrix)"
   ]
  },
  {
   "cell_type": "code",
   "execution_count": 24,
   "metadata": {
    "slideshow": {
     "slide_type": "skip"
    }
   },
   "outputs": [
    {
     "data": {
      "text/plain": [
       "(687, 75, 73, 537)"
      ]
     },
     "execution_count": 24,
     "metadata": {},
     "output_type": "execute_result"
    }
   ],
   "source": [
    "# True negatives, false positives, false negatives, and true positives\n",
    "tn, fp, fn, tp = conf_matrix.ravel()\n",
    "tn, fp, fn, tp"
   ]
  },
  {
   "cell_type": "code",
   "execution_count": 25,
   "metadata": {
    "slideshow": {
     "slide_type": "skip"
    }
   },
   "outputs": [
    {
     "name": "stdout",
     "output_type": "stream",
     "text": [
      "             precision    recall  f1-score   support\n",
      "\n",
      "          0       0.90      0.90      0.90       762\n",
      "          1       0.88      0.88      0.88       610\n",
      "\n",
      "avg / total       0.89      0.89      0.89      1372\n",
      "\n"
     ]
    }
   ],
   "source": [
    "# Precision, recall, f1-score\n",
    "print(report)"
   ]
  },
  {
   "cell_type": "markdown",
   "metadata": {
    "slideshow": {
     "slide_type": "slide"
    }
   },
   "source": [
    "At some point, just making the model more and more complex will start to produce diminishing returns. At this point it's more data that will help.\n",
    "\n",
    "We've been working with just 2 of the 4 features -- why not work with all the features available to us? This gives us more predictive power but makes it hard to visualize the boundaries.\n",
    "\n",
    "We can, however, see how our predictions are going by looking at the rows in the dataset that are misclassified."
   ]
  },
  {
   "cell_type": "markdown",
   "metadata": {
    "slideshow": {
     "slide_type": "slide"
    }
   },
   "source": [
    "## Use all 4 features instead of just V1 and V2"
   ]
  },
  {
   "cell_type": "code",
   "execution_count": 26,
   "metadata": {
    "collapsed": true,
    "slideshow": {
     "slide_type": "skip"
    }
   },
   "outputs": [],
   "source": [
    "# Set up the inputs\n",
    "inputs_all = data[['V1', 'V2', 'V3', 'V4']]"
   ]
  },
  {
   "cell_type": "code",
   "execution_count": 27,
   "metadata": {
    "slideshow": {
     "slide_type": "slide"
    }
   },
   "outputs": [
    {
     "data": {
      "text/html": [
       "<div>\n",
       "<style>\n",
       "    .dataframe thead tr:only-child th {\n",
       "        text-align: right;\n",
       "    }\n",
       "\n",
       "    .dataframe thead th {\n",
       "        text-align: left;\n",
       "    }\n",
       "\n",
       "    .dataframe tbody tr th {\n",
       "        vertical-align: top;\n",
       "    }\n",
       "</style>\n",
       "<table border=\"1\" class=\"dataframe\">\n",
       "  <thead>\n",
       "    <tr style=\"text-align: right;\">\n",
       "      <th></th>\n",
       "      <th>V1</th>\n",
       "      <th>V2</th>\n",
       "      <th>V3</th>\n",
       "      <th>V4</th>\n",
       "    </tr>\n",
       "  </thead>\n",
       "  <tbody>\n",
       "    <tr>\n",
       "      <th>count</th>\n",
       "      <td>1372.000000</td>\n",
       "      <td>1372.000000</td>\n",
       "      <td>1372.000000</td>\n",
       "      <td>1372.000000</td>\n",
       "    </tr>\n",
       "    <tr>\n",
       "      <th>mean</th>\n",
       "      <td>0.433735</td>\n",
       "      <td>1.922353</td>\n",
       "      <td>1.397627</td>\n",
       "      <td>-1.191657</td>\n",
       "    </tr>\n",
       "    <tr>\n",
       "      <th>std</th>\n",
       "      <td>2.842763</td>\n",
       "      <td>5.869047</td>\n",
       "      <td>4.310030</td>\n",
       "      <td>2.101013</td>\n",
       "    </tr>\n",
       "    <tr>\n",
       "      <th>min</th>\n",
       "      <td>-7.042100</td>\n",
       "      <td>-13.773100</td>\n",
       "      <td>-5.286100</td>\n",
       "      <td>-8.548200</td>\n",
       "    </tr>\n",
       "    <tr>\n",
       "      <th>25%</th>\n",
       "      <td>-1.773000</td>\n",
       "      <td>-1.708200</td>\n",
       "      <td>-1.574975</td>\n",
       "      <td>-2.413450</td>\n",
       "    </tr>\n",
       "    <tr>\n",
       "      <th>50%</th>\n",
       "      <td>0.496180</td>\n",
       "      <td>2.319650</td>\n",
       "      <td>0.616630</td>\n",
       "      <td>-0.586650</td>\n",
       "    </tr>\n",
       "    <tr>\n",
       "      <th>75%</th>\n",
       "      <td>2.821475</td>\n",
       "      <td>6.814625</td>\n",
       "      <td>3.179250</td>\n",
       "      <td>0.394810</td>\n",
       "    </tr>\n",
       "    <tr>\n",
       "      <th>max</th>\n",
       "      <td>6.824800</td>\n",
       "      <td>12.951600</td>\n",
       "      <td>17.927400</td>\n",
       "      <td>2.449500</td>\n",
       "    </tr>\n",
       "  </tbody>\n",
       "</table>\n",
       "</div>"
      ],
      "text/plain": [
       "                V1           V2           V3           V4\n",
       "count  1372.000000  1372.000000  1372.000000  1372.000000\n",
       "mean      0.433735     1.922353     1.397627    -1.191657\n",
       "std       2.842763     5.869047     4.310030     2.101013\n",
       "min      -7.042100   -13.773100    -5.286100    -8.548200\n",
       "25%      -1.773000    -1.708200    -1.574975    -2.413450\n",
       "50%       0.496180     2.319650     0.616630    -0.586650\n",
       "75%       2.821475     6.814625     3.179250     0.394810\n",
       "max       6.824800    12.951600    17.927400     2.449500"
      ]
     },
     "execution_count": 27,
     "metadata": {},
     "output_type": "execute_result"
    }
   ],
   "source": [
    "# Here are some key stats on the inputs\n",
    "inputs_all.describe()"
   ]
  },
  {
   "cell_type": "code",
   "execution_count": 28,
   "metadata": {
    "slideshow": {
     "slide_type": "skip"
    }
   },
   "outputs": [
    {
     "data": {
      "text/plain": [
       "(1372, 4)"
      ]
     },
     "execution_count": 28,
     "metadata": {},
     "output_type": "execute_result"
    }
   ],
   "source": [
    "# Turn the inputs into an array of training data\n",
    "X_all_train = inputs_all.values\n",
    "X_all_train.shape"
   ]
  },
  {
   "cell_type": "code",
   "execution_count": 29,
   "metadata": {
    "slideshow": {
     "slide_type": "skip"
    }
   },
   "outputs": [
    {
     "data": {
      "text/plain": [
       "array([[ 3.6216 ,  8.6661 , -2.8073 , -0.44699],\n",
       "       [ 4.5459 ,  8.1674 , -2.4586 , -1.4621 ],\n",
       "       [ 3.866  , -2.6383 ,  1.9242 ,  0.10645]])"
      ]
     },
     "execution_count": 29,
     "metadata": {},
     "output_type": "execute_result"
    }
   ],
   "source": [
    "# Sanity check\n",
    "X_all_train[0:3]"
   ]
  },
  {
   "cell_type": "code",
   "execution_count": 30,
   "metadata": {
    "slideshow": {
     "slide_type": "skip"
    }
   },
   "outputs": [
    {
     "data": {
      "text/plain": [
       "(1372,)"
      ]
     },
     "execution_count": 30,
     "metadata": {},
     "output_type": "execute_result"
    }
   ],
   "source": [
    "# The output remains the same\n",
    "y_train.shape"
   ]
  },
  {
   "cell_type": "code",
   "execution_count": 31,
   "metadata": {
    "slideshow": {
     "slide_type": "skip"
    }
   },
   "outputs": [
    {
     "name": "stdout",
     "output_type": "stream",
     "text": [
      "[LibLinear]"
     ]
    },
    {
     "data": {
      "text/plain": [
       "LogisticRegression(C=100.0, class_weight=None, dual=False, fit_intercept=True,\n",
       "          intercept_scaling=1, max_iter=100, multi_class='ovr', n_jobs=1,\n",
       "          penalty='l2', random_state=0, solver='liblinear', tol=0.0001,\n",
       "          verbose=2, warm_start=False)"
      ]
     },
     "execution_count": 31,
     "metadata": {},
     "output_type": "execute_result"
    }
   ],
   "source": [
    "# Use the same logistic regression model as before\n",
    "# Train the model and find the optimal parameter values\n",
    "lr.fit(X_all_train, y_train)"
   ]
  },
  {
   "cell_type": "code",
   "execution_count": 32,
   "metadata": {
    "slideshow": {
     "slide_type": "slide"
    }
   },
   "outputs": [
    {
     "name": "stdout",
     "output_type": "stream",
     "text": [
      "w0: 6.7977093065581125\n",
      "w1: -7.264170431822384\n",
      "w2: -3.885217128663818\n",
      "w3: -4.8902809890361185\n",
      "w4: -0.5436532238010893\n"
     ]
    }
   ],
   "source": [
    "# These are the optimal values of w0, w1, w2, w3, and w4\n",
    "w0 = lr.intercept_[0]\n",
    "w1 = lr.coef_.squeeze()[0]\n",
    "w2 = lr.coef_.squeeze()[1]\n",
    "w3 = lr.coef_.squeeze()[2]\n",
    "w4 = lr.coef_.squeeze()[3]\n",
    "print(\"w0: {}\\nw1: {}\\nw2: {}\\nw3: {}\\nw4: {}\".format(w0, w1, w2, w3, w4))"
   ]
  },
  {
   "cell_type": "code",
   "execution_count": 33,
   "metadata": {
    "slideshow": {
     "slide_type": "skip"
    }
   },
   "outputs": [
    {
     "name": "stdout",
     "output_type": "stream",
     "text": [
      "[0 0 0 ..., 1 1 1]\n"
     ]
    }
   ],
   "source": [
    "# Genuine or fake for the entire data set\n",
    "y_all_pred = lr.predict(X_all_train)\n",
    "print(y_all_pred)"
   ]
  },
  {
   "cell_type": "code",
   "execution_count": 34,
   "metadata": {
    "slideshow": {
     "slide_type": "skip"
    }
   },
   "outputs": [
    {
     "data": {
      "text/plain": [
       "0.99198250728862969"
      ]
     },
     "execution_count": 34,
     "metadata": {},
     "output_type": "execute_result"
    }
   ],
   "source": [
    "lr.score(X_all_train, y_train)"
   ]
  },
  {
   "cell_type": "code",
   "execution_count": 35,
   "metadata": {
    "slideshow": {
     "slide_type": "skip"
    }
   },
   "outputs": [
    {
     "name": "stdout",
     "output_type": "stream",
     "text": [
      "[[  1.00000000e+00   9.37582493e-18]\n",
      " [  1.00000000e+00   2.49232658e-20]\n",
      " [  9.99999999e-01   1.24646312e-09]\n",
      " ..., \n",
      " [  1.41340716e-01   8.58659284e-01]\n",
      " [  4.74684318e-03   9.95253157e-01]\n",
      " [  7.96637064e-07   9.99999203e-01]]\n"
     ]
    }
   ],
   "source": [
    "# The probabilities of [Genuine = 0, Genuine = 1]\n",
    "y_all_pred_probs = lr.predict_proba(X_all_train)\n",
    "print(y_all_pred_probs)"
   ]
  },
  {
   "cell_type": "code",
   "execution_count": 47,
   "metadata": {
    "slideshow": {
     "slide_type": "slide"
    }
   },
   "outputs": [
    {
     "name": "stdout",
     "output_type": "stream",
     "text": [
      "Number of Misclassifications = 11\n"
     ]
    },
    {
     "data": {
      "text/html": [
       "<div>\n",
       "<style>\n",
       "    .dataframe thead tr:only-child th {\n",
       "        text-align: right;\n",
       "    }\n",
       "\n",
       "    .dataframe thead th {\n",
       "        text-align: left;\n",
       "    }\n",
       "\n",
       "    .dataframe tbody tr th {\n",
       "        vertical-align: top;\n",
       "    }\n",
       "</style>\n",
       "<table border=\"1\" class=\"dataframe\">\n",
       "  <thead>\n",
       "    <tr style=\"text-align: right;\">\n",
       "      <th></th>\n",
       "      <th>V1</th>\n",
       "      <th>V2</th>\n",
       "      <th>V3</th>\n",
       "      <th>V4</th>\n",
       "      <th>Genuine</th>\n",
       "    </tr>\n",
       "  </thead>\n",
       "  <tbody>\n",
       "    <tr>\n",
       "      <th>145</th>\n",
       "      <td>0.51950</td>\n",
       "      <td>-3.2633</td>\n",
       "      <td>3.0895</td>\n",
       "      <td>-0.984900</td>\n",
       "      <td>0</td>\n",
       "    </tr>\n",
       "    <tr>\n",
       "      <th>320</th>\n",
       "      <td>0.51950</td>\n",
       "      <td>-3.2633</td>\n",
       "      <td>3.0895</td>\n",
       "      <td>-0.984900</td>\n",
       "      <td>0</td>\n",
       "    </tr>\n",
       "    <tr>\n",
       "      <th>351</th>\n",
       "      <td>0.51950</td>\n",
       "      <td>-3.2633</td>\n",
       "      <td>3.0895</td>\n",
       "      <td>-0.984900</td>\n",
       "      <td>0</td>\n",
       "    </tr>\n",
       "    <tr>\n",
       "      <th>671</th>\n",
       "      <td>0.51947</td>\n",
       "      <td>-3.2633</td>\n",
       "      <td>3.0895</td>\n",
       "      <td>-0.984920</td>\n",
       "      <td>0</td>\n",
       "    </tr>\n",
       "    <tr>\n",
       "      <th>716</th>\n",
       "      <td>0.51950</td>\n",
       "      <td>-3.2633</td>\n",
       "      <td>3.0895</td>\n",
       "      <td>-0.984900</td>\n",
       "      <td>0</td>\n",
       "    </tr>\n",
       "    <tr>\n",
       "      <th>911</th>\n",
       "      <td>2.03100</td>\n",
       "      <td>1.8520</td>\n",
       "      <td>-3.0121</td>\n",
       "      <td>0.003003</td>\n",
       "      <td>1</td>\n",
       "    </tr>\n",
       "    <tr>\n",
       "      <th>918</th>\n",
       "      <td>2.39170</td>\n",
       "      <td>4.5565</td>\n",
       "      <td>-4.9888</td>\n",
       "      <td>-2.898700</td>\n",
       "      <td>1</td>\n",
       "    </tr>\n",
       "    <tr>\n",
       "      <th>942</th>\n",
       "      <td>-3.37930</td>\n",
       "      <td>-13.7731</td>\n",
       "      <td>17.9274</td>\n",
       "      <td>-2.032300</td>\n",
       "      <td>1</td>\n",
       "    </tr>\n",
       "    <tr>\n",
       "      <th>1094</th>\n",
       "      <td>2.01770</td>\n",
       "      <td>1.7982</td>\n",
       "      <td>-2.9581</td>\n",
       "      <td>0.209900</td>\n",
       "      <td>1</td>\n",
       "    </tr>\n",
       "    <tr>\n",
       "      <th>1101</th>\n",
       "      <td>2.19430</td>\n",
       "      <td>4.5503</td>\n",
       "      <td>-4.9760</td>\n",
       "      <td>-2.725400</td>\n",
       "      <td>1</td>\n",
       "    </tr>\n",
       "    <tr>\n",
       "      <th>1345</th>\n",
       "      <td>2.22790</td>\n",
       "      <td>4.0951</td>\n",
       "      <td>-4.8037</td>\n",
       "      <td>-2.111200</td>\n",
       "      <td>1</td>\n",
       "    </tr>\n",
       "  </tbody>\n",
       "</table>\n",
       "</div>"
      ],
      "text/plain": [
       "           V1       V2       V3        V4  Genuine\n",
       "145   0.51950  -3.2633   3.0895 -0.984900        0\n",
       "320   0.51950  -3.2633   3.0895 -0.984900        0\n",
       "351   0.51950  -3.2633   3.0895 -0.984900        0\n",
       "671   0.51947  -3.2633   3.0895 -0.984920        0\n",
       "716   0.51950  -3.2633   3.0895 -0.984900        0\n",
       "911   2.03100   1.8520  -3.0121  0.003003        1\n",
       "918   2.39170   4.5565  -4.9888 -2.898700        1\n",
       "942  -3.37930 -13.7731  17.9274 -2.032300        1\n",
       "1094  2.01770   1.7982  -2.9581  0.209900        1\n",
       "1101  2.19430   4.5503  -4.9760 -2.725400        1\n",
       "1345  2.22790   4.0951  -4.8037 -2.111200        1"
      ]
     },
     "execution_count": 47,
     "metadata": {},
     "output_type": "execute_result"
    }
   ],
   "source": [
    "# Where did the model misclassify banknotes?\n",
    "errors = data[data['Genuine'] != y_all_pred]\n",
    "print('Number of Misclassifications = {}'.format(len(errors)))\n",
    "errors"
   ]
  },
  {
   "cell_type": "markdown",
   "metadata": {
    "collapsed": true,
    "slideshow": {
     "slide_type": "slide"
    }
   },
   "source": [
    "Lesson: With enough data, a linear model is often good enough."
   ]
  },
  {
   "cell_type": "markdown",
   "metadata": {
    "slideshow": {
     "slide_type": "slide"
    }
   },
   "source": [
    "## Summary\n",
    "\n",
    "We now have in our toolkit ways to make numerical and categorical predictions.\n",
    "\n",
    "Can you think of a prediction that doesn't predict a numerical value or a category?\n",
    "\n",
    "Moreover, our dataset can contain any number of features and our features can be complex.\n",
    "\n",
    "We know how to take linear models and make them into non-linear models to capture more complex patterns in our data.\n",
    "\n",
    "We can even bandy about fancy terms like logistic regression, penalty functions, gradient descent, support vector machines, and neural networks!"
   ]
  },
  {
   "cell_type": "code",
   "execution_count": null,
   "metadata": {
    "collapsed": true
   },
   "outputs": [],
   "source": []
  }
 ],
 "metadata": {
  "celltoolbar": "Slideshow",
  "kernelspec": {
   "display_name": "Python 3",
   "language": "python",
   "name": "python3"
  },
  "language_info": {
   "codemirror_mode": {
    "name": "ipython",
    "version": 3
   },
   "file_extension": ".py",
   "mimetype": "text/x-python",
   "name": "python",
   "nbconvert_exporter": "python",
   "pygments_lexer": "ipython3",
   "version": "3.6.2"
  }
 },
 "nbformat": 4,
 "nbformat_minor": 2
}
